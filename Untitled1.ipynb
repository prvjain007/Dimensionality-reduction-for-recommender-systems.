{
 "cells": [
  {
   "cell_type": "code",
   "execution_count": 33,
   "metadata": {
    "collapsed": true
   },
   "outputs": [],
   "source": [
    "import pandas as pd\n",
    "import numpy as np\n",
    "from scipy import sparse\n",
    "from scipy.sparse import linalg\n"
   ]
  },
  {
   "cell_type": "code",
   "execution_count": 34,
   "metadata": {
    "collapsed": true
   },
   "outputs": [],
   "source": [
    "\n",
    "\n",
    "data=pd.read_excel('jester-data-3.xls',header=None)"
   ]
  },
  {
   "cell_type": "code",
   "execution_count": 35,
   "metadata": {
    "collapsed": false
   },
   "outputs": [
    {
     "data": {
      "text/html": [
       "<div>\n",
       "<table border=\"1\" class=\"dataframe\">\n",
       "  <thead>\n",
       "    <tr style=\"text-align: right;\">\n",
       "      <th></th>\n",
       "      <th>0</th>\n",
       "      <th>1</th>\n",
       "      <th>2</th>\n",
       "      <th>3</th>\n",
       "      <th>4</th>\n",
       "      <th>5</th>\n",
       "      <th>6</th>\n",
       "      <th>7</th>\n",
       "      <th>8</th>\n",
       "      <th>9</th>\n",
       "      <th>...</th>\n",
       "      <th>91</th>\n",
       "      <th>92</th>\n",
       "      <th>93</th>\n",
       "      <th>94</th>\n",
       "      <th>95</th>\n",
       "      <th>96</th>\n",
       "      <th>97</th>\n",
       "      <th>98</th>\n",
       "      <th>99</th>\n",
       "      <th>100</th>\n",
       "    </tr>\n",
       "  </thead>\n",
       "  <tbody>\n",
       "    <tr>\n",
       "      <th>0</th>\n",
       "      <td>26</td>\n",
       "      <td>99.0</td>\n",
       "      <td>99.00</td>\n",
       "      <td>99.0</td>\n",
       "      <td>99.0</td>\n",
       "      <td>-1.65</td>\n",
       "      <td>99.0</td>\n",
       "      <td>-0.78</td>\n",
       "      <td>6.89</td>\n",
       "      <td>99.0</td>\n",
       "      <td>...</td>\n",
       "      <td>99.0</td>\n",
       "      <td>99.0</td>\n",
       "      <td>99.00</td>\n",
       "      <td>99.0</td>\n",
       "      <td>99.00</td>\n",
       "      <td>99.0</td>\n",
       "      <td>99.0</td>\n",
       "      <td>99.0</td>\n",
       "      <td>99.00</td>\n",
       "      <td>99.0</td>\n",
       "    </tr>\n",
       "    <tr>\n",
       "      <th>1</th>\n",
       "      <td>33</td>\n",
       "      <td>99.0</td>\n",
       "      <td>99.00</td>\n",
       "      <td>99.0</td>\n",
       "      <td>99.0</td>\n",
       "      <td>-9.27</td>\n",
       "      <td>99.0</td>\n",
       "      <td>-9.17</td>\n",
       "      <td>-8.59</td>\n",
       "      <td>99.0</td>\n",
       "      <td>...</td>\n",
       "      <td>99.0</td>\n",
       "      <td>99.0</td>\n",
       "      <td>-2.77</td>\n",
       "      <td>99.0</td>\n",
       "      <td>99.00</td>\n",
       "      <td>99.0</td>\n",
       "      <td>99.0</td>\n",
       "      <td>99.0</td>\n",
       "      <td>99.00</td>\n",
       "      <td>99.0</td>\n",
       "    </tr>\n",
       "    <tr>\n",
       "      <th>2</th>\n",
       "      <td>16</td>\n",
       "      <td>99.0</td>\n",
       "      <td>99.00</td>\n",
       "      <td>99.0</td>\n",
       "      <td>99.0</td>\n",
       "      <td>-6.12</td>\n",
       "      <td>99.0</td>\n",
       "      <td>-7.48</td>\n",
       "      <td>-7.77</td>\n",
       "      <td>99.0</td>\n",
       "      <td>...</td>\n",
       "      <td>99.0</td>\n",
       "      <td>99.0</td>\n",
       "      <td>99.00</td>\n",
       "      <td>99.0</td>\n",
       "      <td>99.00</td>\n",
       "      <td>99.0</td>\n",
       "      <td>99.0</td>\n",
       "      <td>99.0</td>\n",
       "      <td>99.00</td>\n",
       "      <td>99.0</td>\n",
       "    </tr>\n",
       "    <tr>\n",
       "      <th>3</th>\n",
       "      <td>24</td>\n",
       "      <td>99.0</td>\n",
       "      <td>0.05</td>\n",
       "      <td>99.0</td>\n",
       "      <td>99.0</td>\n",
       "      <td>-2.82</td>\n",
       "      <td>99.0</td>\n",
       "      <td>-4.85</td>\n",
       "      <td>-0.87</td>\n",
       "      <td>99.0</td>\n",
       "      <td>...</td>\n",
       "      <td>99.0</td>\n",
       "      <td>99.0</td>\n",
       "      <td>99.00</td>\n",
       "      <td>99.0</td>\n",
       "      <td>1.84</td>\n",
       "      <td>99.0</td>\n",
       "      <td>99.0</td>\n",
       "      <td>99.0</td>\n",
       "      <td>-4.08</td>\n",
       "      <td>99.0</td>\n",
       "    </tr>\n",
       "    <tr>\n",
       "      <th>4</th>\n",
       "      <td>22</td>\n",
       "      <td>99.0</td>\n",
       "      <td>99.00</td>\n",
       "      <td>99.0</td>\n",
       "      <td>99.0</td>\n",
       "      <td>-4.95</td>\n",
       "      <td>99.0</td>\n",
       "      <td>6.21</td>\n",
       "      <td>2.72</td>\n",
       "      <td>99.0</td>\n",
       "      <td>...</td>\n",
       "      <td>99.0</td>\n",
       "      <td>99.0</td>\n",
       "      <td>99.00</td>\n",
       "      <td>99.0</td>\n",
       "      <td>99.00</td>\n",
       "      <td>99.0</td>\n",
       "      <td>99.0</td>\n",
       "      <td>99.0</td>\n",
       "      <td>99.00</td>\n",
       "      <td>99.0</td>\n",
       "    </tr>\n",
       "  </tbody>\n",
       "</table>\n",
       "<p>5 rows × 101 columns</p>\n",
       "</div>"
      ],
      "text/plain": [
       "   0     1      2     3     4     5     6     7     8     9    ...    91   \\\n",
       "0   26  99.0  99.00  99.0  99.0 -1.65  99.0 -0.78  6.89  99.0  ...   99.0   \n",
       "1   33  99.0  99.00  99.0  99.0 -9.27  99.0 -9.17 -8.59  99.0  ...   99.0   \n",
       "2   16  99.0  99.00  99.0  99.0 -6.12  99.0 -7.48 -7.77  99.0  ...   99.0   \n",
       "3   24  99.0   0.05  99.0  99.0 -2.82  99.0 -4.85 -0.87  99.0  ...   99.0   \n",
       "4   22  99.0  99.00  99.0  99.0 -4.95  99.0  6.21  2.72  99.0  ...   99.0   \n",
       "\n",
       "    92     93    94     95    96    97    98     99    100  \n",
       "0  99.0  99.00  99.0  99.00  99.0  99.0  99.0  99.00  99.0  \n",
       "1  99.0  -2.77  99.0  99.00  99.0  99.0  99.0  99.00  99.0  \n",
       "2  99.0  99.00  99.0  99.00  99.0  99.0  99.0  99.00  99.0  \n",
       "3  99.0  99.00  99.0   1.84  99.0  99.0  99.0  -4.08  99.0  \n",
       "4  99.0  99.00  99.0  99.00  99.0  99.0  99.0  99.00  99.0  \n",
       "\n",
       "[5 rows x 101 columns]"
      ]
     },
     "execution_count": 35,
     "metadata": {},
     "output_type": "execute_result"
    }
   ],
   "source": [
    "data.head()"
   ]
  },
  {
   "cell_type": "code",
   "execution_count": 36,
   "metadata": {
    "collapsed": false,
    "scrolled": true
   },
   "outputs": [
    {
     "data": {
      "text/plain": [
       "(24938, 101)"
      ]
     },
     "execution_count": 36,
     "metadata": {},
     "output_type": "execute_result"
    }
   ],
   "source": [
    "data.shape"
   ]
  },
  {
   "cell_type": "code",
   "execution_count": 37,
   "metadata": {
    "collapsed": true
   },
   "outputs": [],
   "source": [
    "X=data.as_matrix()"
   ]
  },
  {
   "cell_type": "code",
   "execution_count": 38,
   "metadata": {
    "collapsed": false
   },
   "outputs": [
    {
     "data": {
      "text/plain": [
       "(24938, 101)"
      ]
     },
     "execution_count": 38,
     "metadata": {},
     "output_type": "execute_result"
    }
   ],
   "source": [
    "X.shape"
   ]
  },
  {
   "cell_type": "code",
   "execution_count": 39,
   "metadata": {
    "collapsed": false
   },
   "outputs": [
    {
     "data": {
      "text/plain": [
       "(101, 24938)"
      ]
     },
     "execution_count": 39,
     "metadata": {},
     "output_type": "execute_result"
    }
   ],
   "source": [
    "import numpy as np\n",
    "X=X.astype('float16')\n",
    "X=np.matrix(X)\n",
    "X1=np.transpose(X)\n",
    "X1.shape"
   ]
  },
  {
   "cell_type": "code",
   "execution_count": 40,
   "metadata": {
    "collapsed": false
   },
   "outputs": [],
   "source": [
    "X=sparse.csr_matrix(X)"
   ]
  },
  {
   "cell_type": "code",
   "execution_count": 41,
   "metadata": {
    "collapsed": true
   },
   "outputs": [],
   "source": [
    "X1=sparse.csr_matrix(X1)"
   ]
  },
  {
   "cell_type": "code",
   "execution_count": 42,
   "metadata": {
    "collapsed": true
   },
   "outputs": [],
   "source": [
    "B=X1*X"
   ]
  },
  {
   "cell_type": "code",
   "execution_count": 43,
   "metadata": {
    "collapsed": false
   },
   "outputs": [
    {
     "data": {
      "text/plain": [
       "(101, 101)"
      ]
     },
     "execution_count": 43,
     "metadata": {},
     "output_type": "execute_result"
    }
   ],
   "source": [
    "B.shape"
   ]
  },
  {
   "cell_type": "code",
   "execution_count": 44,
   "metadata": {
    "collapsed": false
   },
   "outputs": [],
   "source": [
    "L,V= sparse.linalg.eigs(B, k=99)"
   ]
  },
  {
   "cell_type": "code",
   "execution_count": 45,
   "metadata": {
    "collapsed": false
   },
   "outputs": [
    {
     "data": {
      "text/plain": [
       "array([ 0.03005850+0.j,  0.12129083+0.j,  0.12095849+0.j,  0.12156629+0.j,\n",
       "        0.12157474+0.j,  0.00026604+0.j,  0.12152773+0.j, -0.00114308+0.j,\n",
       "       -0.00198669+0.j,  0.12158237+0.j], dtype=complex64)"
      ]
     },
     "execution_count": 45,
     "metadata": {},
     "output_type": "execute_result"
    }
   ],
   "source": [
    "V[0:10,0]"
   ]
  },
  {
   "cell_type": "code",
   "execution_count": 46,
   "metadata": {
    "collapsed": false
   },
   "outputs": [
    {
     "data": {
      "text/plain": [
       "(101, 99)"
      ]
     },
     "execution_count": 46,
     "metadata": {},
     "output_type": "execute_result"
    }
   ],
   "source": [
    "V.shape"
   ]
  },
  {
   "cell_type": "code",
   "execution_count": 47,
   "metadata": {
    "collapsed": false
   },
   "outputs": [
    {
     "ename": "KeyboardInterrupt",
     "evalue": "",
     "output_type": "error",
     "traceback": [
      "\u001b[1;31m---------------------------------------------------------------------------\u001b[0m",
      "\u001b[1;31mKeyboardInterrupt\u001b[0m                         Traceback (most recent call last)",
      "\u001b[1;32m<ipython-input-47-475beb13e633>\u001b[0m in \u001b[0;36m<module>\u001b[1;34m()\u001b[0m\n\u001b[1;32m----> 1\u001b[1;33m \u001b[0mA\u001b[0m\u001b[1;33m=\u001b[0m\u001b[0mX\u001b[0m\u001b[1;33m*\u001b[0m\u001b[0mX1\u001b[0m\u001b[1;33m\u001b[0m\u001b[0m\n\u001b[0m",
      "\u001b[1;32m/home/rushabh/anaconda2/lib/python2.7/site-packages/scipy/sparse/base.pyc\u001b[0m in \u001b[0;36m__mul__\u001b[1;34m(self, other)\u001b[0m\n\u001b[0;32m    351\u001b[0m             \u001b[1;32mif\u001b[0m \u001b[0mself\u001b[0m\u001b[1;33m.\u001b[0m\u001b[0mshape\u001b[0m\u001b[1;33m[\u001b[0m\u001b[1;36m1\u001b[0m\u001b[1;33m]\u001b[0m \u001b[1;33m!=\u001b[0m \u001b[0mother\u001b[0m\u001b[1;33m.\u001b[0m\u001b[0mshape\u001b[0m\u001b[1;33m[\u001b[0m\u001b[1;36m0\u001b[0m\u001b[1;33m]\u001b[0m\u001b[1;33m:\u001b[0m\u001b[1;33m\u001b[0m\u001b[0m\n\u001b[0;32m    352\u001b[0m                 \u001b[1;32mraise\u001b[0m \u001b[0mValueError\u001b[0m\u001b[1;33m(\u001b[0m\u001b[1;34m'dimension mismatch'\u001b[0m\u001b[1;33m)\u001b[0m\u001b[1;33m\u001b[0m\u001b[0m\n\u001b[1;32m--> 353\u001b[1;33m             \u001b[1;32mreturn\u001b[0m \u001b[0mself\u001b[0m\u001b[1;33m.\u001b[0m\u001b[0m_mul_sparse_matrix\u001b[0m\u001b[1;33m(\u001b[0m\u001b[0mother\u001b[0m\u001b[1;33m)\u001b[0m\u001b[1;33m\u001b[0m\u001b[0m\n\u001b[0m\u001b[0;32m    354\u001b[0m \u001b[1;33m\u001b[0m\u001b[0m\n\u001b[0;32m    355\u001b[0m         \u001b[1;32mtry\u001b[0m\u001b[1;33m:\u001b[0m\u001b[1;33m\u001b[0m\u001b[0m\n",
      "\u001b[1;32m/home/rushabh/anaconda2/lib/python2.7/site-packages/scipy/sparse/compressed.pyc\u001b[0m in \u001b[0;36m_mul_sparse_matrix\u001b[1;34m(self, other)\u001b[0m\n\u001b[0;32m    487\u001b[0m            \u001b[0mnp\u001b[0m\u001b[1;33m.\u001b[0m\u001b[0masarray\u001b[0m\u001b[1;33m(\u001b[0m\u001b[0mother\u001b[0m\u001b[1;33m.\u001b[0m\u001b[0mindptr\u001b[0m\u001b[1;33m,\u001b[0m \u001b[0mdtype\u001b[0m\u001b[1;33m=\u001b[0m\u001b[0midx_dtype\u001b[0m\u001b[1;33m)\u001b[0m\u001b[1;33m,\u001b[0m\u001b[1;33m\u001b[0m\u001b[0m\n\u001b[0;32m    488\u001b[0m            \u001b[0mnp\u001b[0m\u001b[1;33m.\u001b[0m\u001b[0masarray\u001b[0m\u001b[1;33m(\u001b[0m\u001b[0mother\u001b[0m\u001b[1;33m.\u001b[0m\u001b[0mindices\u001b[0m\u001b[1;33m,\u001b[0m \u001b[0mdtype\u001b[0m\u001b[1;33m=\u001b[0m\u001b[0midx_dtype\u001b[0m\u001b[1;33m)\u001b[0m\u001b[1;33m,\u001b[0m\u001b[1;33m\u001b[0m\u001b[0m\n\u001b[1;32m--> 489\u001b[1;33m            indptr)\n\u001b[0m\u001b[0;32m    490\u001b[0m \u001b[1;33m\u001b[0m\u001b[0m\n\u001b[0;32m    491\u001b[0m         \u001b[0mnnz\u001b[0m \u001b[1;33m=\u001b[0m \u001b[0mindptr\u001b[0m\u001b[1;33m[\u001b[0m\u001b[1;33m-\u001b[0m\u001b[1;36m1\u001b[0m\u001b[1;33m]\u001b[0m\u001b[1;33m\u001b[0m\u001b[0m\n",
      "\u001b[1;31mKeyboardInterrupt\u001b[0m: "
     ]
    }
   ],
   "source": [
    "A=X*X1"
   ]
  },
  {
   "cell_type": "code",
   "execution_count": null,
   "metadata": {
    "collapsed": false
   },
   "outputs": [],
   "source": [
    "A.shape"
   ]
  },
  {
   "cell_type": "code",
   "execution_count": null,
   "metadata": {
    "collapsed": false
   },
   "outputs": [],
   "source": [
    "B.shape"
   ]
  },
  {
   "cell_type": "code",
   "execution_count": 14,
   "metadata": {
    "collapsed": true
   },
   "outputs": [],
   "source": [
    "from scipy.linalg import norm\n",
    "def getEigenPairs(M,k):\n",
    "    x=np.random.randn((M.shape[0]))\n",
    "    x=np.transpose(x)\n",
    "    Val=[]\n",
    "    Vec=[]\n",
    "    print 'initial x shape:'\n",
    "    x=x.reshape((101,1))\n",
    "    for i in xrange(k):\n",
    "        M=sparse.csr_matrix(M)\n",
    "        for run in xrange(50):\n",
    "            V=M*x                # 101x101 . 101x1\n",
    "            nor=norm(V)          \n",
    "            x_new=V/nor\n",
    "            x=x_new\n",
    "#             if i==0:\n",
    "#                 print 'shape of x'\n",
    "#                 print x.shape\n",
    "        eVec=x\n",
    "        y=x.reshape((1,101))\n",
    "        y=np.matrix(y)\n",
    "        x=x.reshape((101,1))\n",
    "        x=np.matrix(x)\n",
    "        if i==0:\n",
    "            print y.shape\n",
    "            print M.shape\n",
    "            print x.shape\n",
    "        \n",
    "       # print y.shape\n",
    "        eVal=y*M*x\n",
    "        if i==0:\n",
    "            print eVal.shape\n",
    "        eVal=np.asscalar(eVal)\n",
    "        Val.append(eVal)\n",
    "        Vec.append(eVec)\n",
    "    \n",
    "        M=M-eVal*x*y\n",
    "        \n",
    "    return Val,Vec"
   ]
  },
  {
   "cell_type": "code",
   "execution_count": 15,
   "metadata": {
    "collapsed": false,
    "scrolled": true
   },
   "outputs": [
    {
     "name": "stdout",
     "output_type": "stream",
     "text": [
      "initial x shape:\n",
      "(1, 101)\n",
      "(101, 101)\n",
      "(101, 1)\n",
      "(1, 1)\n"
     ]
    }
   ],
   "source": [
    "B=sparse.csr_matrix(B)\n",
    "Val,Vec=getEigenPairs(B,k=100)"
   ]
  },
  {
   "cell_type": "code",
   "execution_count": 23,
   "metadata": {
    "collapsed": false,
    "scrolled": true
   },
   "outputs": [],
   "source": [
    "U=Vec[0]\n",
    "for i in xrange(1,len(Vec)):\n",
    "    U=np.column_stack((U,Vec[i]))"
   ]
  },
  {
   "cell_type": "code",
   "execution_count": 25,
   "metadata": {
    "collapsed": false
   },
   "outputs": [],
   "source": [
    "U=np.matrix(U)"
   ]
  },
  {
   "cell_type": "code",
   "execution_count": 18,
   "metadata": {
    "collapsed": false,
    "scrolled": true
   },
   "outputs": [],
   "source": [
    "from scipy.sparse import linalg\n",
    "L,V= sparse.linalg.eigs(B, k=99)"
   ]
  },
  {
   "cell_type": "code",
   "execution_count": 19,
   "metadata": {
    "collapsed": false
   },
   "outputs": [
    {
     "data": {
      "text/plain": [
       "array([  1.65022167e+10+0.j,   3.21589824e+08+0.j,   7.56811840e+07+0.j,\n",
       "         6.22230360e+07+0.j,   4.60128800e+07+0.j,   4.23804400e+07+0.j,\n",
       "         4.06303400e+07+0.j,   3.79664480e+07+0.j,   3.78365920e+07+0.j,\n",
       "         3.36964640e+07+0.j,   3.15524980e+07+0.j,   3.03652880e+07+0.j,\n",
       "         2.93305000e+07+0.j,   2.80429660e+07+0.j,   2.69950660e+07+0.j,\n",
       "         2.67114260e+07+0.j,   6.93402100e+06+0.j,   2.51967900e+07+0.j,\n",
       "         3.38361425e+06+0.j,   2.47767420e+07+0.j,   2.21431725e+06+0.j,\n",
       "         1.80812725e+06+0.j,   1.74593938e+06+0.j,   1.42889000e+06+0.j,\n",
       "         1.12993125e+06+0.j,   9.98964750e+05+0.j,   9.75859125e+05+0.j,\n",
       "         2.49530215e+04+0.j,   3.55536211e+04+0.j,   9.18895156e+04+0.j,\n",
       "         1.42798547e+05+0.j,   8.11821562e+05+0.j,   2.36341344e+05+0.j,\n",
       "         7.05838750e+05+0.j,   6.60017312e+05+0.j,   3.01434250e+05+0.j,\n",
       "         3.34216000e+05+0.j,   3.58683281e+05+0.j,   4.07776938e+05+0.j,\n",
       "         6.02632062e+05+0.j,   4.57957031e+05+0.j,   5.40869375e+05+0.j,\n",
       "         4.85618719e+05+0.j,   4.95317156e+05+0.j,   5.11507156e+05+0.j,\n",
       "         1.28754090e+07+0.j,   1.31158320e+07+0.j,   2.37838440e+07+0.j,\n",
       "         2.20984560e+07+0.j,   2.21690980e+07+0.j,   1.46363330e+07+0.j,\n",
       "         1.50803940e+07+0.j,   2.14009840e+07+0.j,   1.54985200e+07+0.j,\n",
       "         2.10011700e+07+0.j,   2.08846060e+07+0.j,   1.58014020e+07+0.j,\n",
       "         2.04957980e+07+0.j,   2.03163940e+07+0.j,   2.01001040e+07+0.j,\n",
       "         1.98319740e+07+0.j,   1.62088900e+07+0.j,   1.64169440e+07+0.j,\n",
       "         1.96255460e+07+0.j,   1.95450400e+07+0.j,   1.65660720e+07+0.j,\n",
       "         1.93597520e+07+0.j,   1.66515450e+07+0.j,   1.67593410e+07+0.j,\n",
       "         1.69370120e+07+0.j,   1.70568160e+07+0.j,   1.70947920e+07+0.j,\n",
       "         1.72474240e+07+0.j,   1.91474160e+07+0.j,   1.91360720e+07+0.j,\n",
       "         1.91172740e+07+0.j,   1.89798700e+07+0.j,   1.89147100e+07+0.j,\n",
       "         1.88410000e+07+0.j,   1.73317200e+07+0.j,   1.73592160e+07+0.j,\n",
       "         1.74049940e+07+0.j,   1.75053400e+07+0.j,   1.76355180e+07+0.j,\n",
       "         1.76631280e+07+0.j,   1.77380900e+07+0.j,   1.77573440e+07+0.j,\n",
       "         1.86575660e+07+0.j,   1.78936260e+07+0.j,   1.79376380e+07+0.j,\n",
       "         1.85807380e+07+0.j,   1.85305900e+07+0.j,   1.85206700e+07+0.j,\n",
       "         1.80824040e+07+0.j,   1.81211360e+07+0.j,   1.83566360e+07+0.j,\n",
       "         1.82102100e+07+0.j,   1.82941580e+07+0.j,   1.82738980e+07+0.j], dtype=complex64)"
      ]
     },
     "execution_count": 19,
     "metadata": {},
     "output_type": "execute_result"
    }
   ],
   "source": [
    "L"
   ]
  },
  {
   "cell_type": "code",
   "execution_count": 27,
   "metadata": {
    "collapsed": false
   },
   "outputs": [],
   "source": [
    "#construct the sigma matrix:\n",
    "sigma=np.zeros((100,100))\n",
    "sigma=np.matrix(sigma)\n",
    "for i in xrange(100):\n",
    "    sigma[i,i]=pow(Val[i],0.5)\n",
    "    "
   ]
  },
  {
   "cell_type": "code",
   "execution_count": 28,
   "metadata": {
    "collapsed": false
   },
   "outputs": [
    {
     "data": {
      "text/plain": [
       "(100, 100)"
      ]
     },
     "execution_count": 28,
     "metadata": {},
     "output_type": "execute_result"
    }
   ],
   "source": [
    "sigma.shape"
   ]
  },
  {
   "cell_type": "code",
   "execution_count": 32,
   "metadata": {
    "collapsed": false
   },
   "outputs": [
    {
     "data": {
      "text/plain": [
       "(array([ 0,  1,  2,  3,  4,  5,  6,  7,  8,  9, 10, 11, 12, 13, 14, 15, 16,\n",
       "        17, 18, 19, 20, 21, 22, 23, 24, 25, 26, 27, 28, 29, 30, 31, 32, 33,\n",
       "        34, 35, 36, 37, 38, 39, 40, 41, 42, 43, 44, 45, 46, 47, 48, 49, 50,\n",
       "        51, 52, 53, 54, 55, 56, 57, 58, 59, 60, 61, 62, 63, 64, 65, 66, 67,\n",
       "        68, 69, 70, 71, 72, 73, 74, 75, 76, 77, 78, 79, 80, 81, 82, 83, 84,\n",
       "        85, 86, 87, 88, 89, 90, 91, 92, 93, 94, 95, 96, 97, 98, 99]),\n",
       " array([ 0,  1,  2,  3,  4,  5,  6,  7,  8,  9, 10, 11, 12, 13, 14, 15, 16,\n",
       "        17, 18, 19, 20, 21, 22, 23, 24, 25, 26, 27, 28, 29, 30, 31, 32, 33,\n",
       "        34, 35, 36, 37, 38, 39, 40, 41, 42, 43, 44, 45, 46, 47, 48, 49, 50,\n",
       "        51, 52, 53, 54, 55, 56, 57, 58, 59, 60, 61, 62, 63, 64, 65, 66, 67,\n",
       "        68, 69, 70, 71, 72, 73, 74, 75, 76, 77, 78, 79, 80, 81, 82, 83, 84,\n",
       "        85, 86, 87, 88, 89, 90, 91, 92, 93, 94, 95, 96, 97, 98, 99]))"
      ]
     },
     "execution_count": 32,
     "metadata": {},
     "output_type": "execute_result"
    }
   ],
   "source": [
    "np.nonzero(sigma)"
   ]
  },
  {
   "cell_type": "code",
   "execution_count": 13,
   "metadata": {
    "collapsed": false
   },
   "outputs": [],
   "source": [
    "#reconstruct X by muptiplying U sigma and V transpose\n",
    "X_recons=U*sigma*V.T\n",
    "    \n",
    "\n",
    "\n"
   ]
  },
  {
   "cell_type": "code",
   "execution_count": null,
   "metadata": {
    "collapsed": true
   },
   "outputs": [],
   "source": []
  }
 ],
 "metadata": {
  "kernelspec": {
   "display_name": "Python [Root]",
   "language": "python",
   "name": "Python [Root]"
  },
  "language_info": {
   "codemirror_mode": {
    "name": "ipython",
    "version": 2
   },
   "file_extension": ".py",
   "mimetype": "text/x-python",
   "name": "python",
   "nbconvert_exporter": "python",
   "pygments_lexer": "ipython2",
   "version": "2.7.12"
  }
 },
 "nbformat": 4,
 "nbformat_minor": 0
}
